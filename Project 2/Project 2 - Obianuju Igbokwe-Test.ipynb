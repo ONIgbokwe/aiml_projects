{
 "cells": [
  {
   "cell_type": "markdown",
   "metadata": {},
   "source": [
    "### Project 2 - Thera Bank Personal Loan Campaign\n",
    "#### By Obianuju Igbokwe"
   ]
  },
  {
   "cell_type": "markdown",
   "metadata": {},
   "source": [
    "### Objective:\n",
    "The classification goal is to predict the likelihood of a liability customer buying personal loans."
   ]
  },
  {
   "cell_type": "markdown",
   "metadata": {},
   "source": [
    "### Question 1. Import the datasets and libraries, check datatype, statistical summary, shape, null values or incorrect imputation."
   ]
  },
  {
   "cell_type": "code",
   "execution_count": 48,
   "metadata": {},
   "outputs": [],
   "source": [
    "import pandas as pd\n",
    "import numpy as np\n",
    "import matplotlib.pyplot as plt\n",
    "%matplotlib inline\n",
    "\n",
    "import seaborn as sns\n",
    "import scipy as sp\n",
    "import statistics\n",
    "\n",
    "from IPython.core.interactiveshell import InteractiveShell \n",
    "InteractiveShell.ast_node_interactivity = \"all\"\n"
   ]
  },
  {
   "cell_type": "code",
   "execution_count": 49,
   "metadata": {},
   "outputs": [],
   "source": [
    "ploan = pd.read_csv('Bank_Personal_Loan_Modelling.csv')"
   ]
  },
  {
   "cell_type": "code",
   "execution_count": 50,
   "metadata": {},
   "outputs": [
    {
     "data": {
      "text/html": [
       "<div>\n",
       "<style scoped>\n",
       "    .dataframe tbody tr th:only-of-type {\n",
       "        vertical-align: middle;\n",
       "    }\n",
       "\n",
       "    .dataframe tbody tr th {\n",
       "        vertical-align: top;\n",
       "    }\n",
       "\n",
       "    .dataframe thead th {\n",
       "        text-align: right;\n",
       "    }\n",
       "</style>\n",
       "<table border=\"1\" class=\"dataframe\">\n",
       "  <thead>\n",
       "    <tr style=\"text-align: right;\">\n",
       "      <th></th>\n",
       "      <th>ID</th>\n",
       "      <th>Age</th>\n",
       "      <th>Experience</th>\n",
       "      <th>Income</th>\n",
       "      <th>ZIP Code</th>\n",
       "      <th>Family</th>\n",
       "      <th>CCAvg</th>\n",
       "      <th>Education</th>\n",
       "      <th>Mortgage</th>\n",
       "      <th>Personal Loan</th>\n",
       "      <th>Securities Account</th>\n",
       "      <th>CD Account</th>\n",
       "      <th>Online</th>\n",
       "      <th>CreditCard</th>\n",
       "    </tr>\n",
       "  </thead>\n",
       "  <tbody>\n",
       "    <tr>\n",
       "      <th>0</th>\n",
       "      <td>1</td>\n",
       "      <td>25</td>\n",
       "      <td>1</td>\n",
       "      <td>49</td>\n",
       "      <td>91107</td>\n",
       "      <td>4</td>\n",
       "      <td>1.6</td>\n",
       "      <td>1</td>\n",
       "      <td>0</td>\n",
       "      <td>0</td>\n",
       "      <td>1</td>\n",
       "      <td>0</td>\n",
       "      <td>0</td>\n",
       "      <td>0</td>\n",
       "    </tr>\n",
       "    <tr>\n",
       "      <th>1</th>\n",
       "      <td>2</td>\n",
       "      <td>45</td>\n",
       "      <td>19</td>\n",
       "      <td>34</td>\n",
       "      <td>90089</td>\n",
       "      <td>3</td>\n",
       "      <td>1.5</td>\n",
       "      <td>1</td>\n",
       "      <td>0</td>\n",
       "      <td>0</td>\n",
       "      <td>1</td>\n",
       "      <td>0</td>\n",
       "      <td>0</td>\n",
       "      <td>0</td>\n",
       "    </tr>\n",
       "    <tr>\n",
       "      <th>2</th>\n",
       "      <td>3</td>\n",
       "      <td>39</td>\n",
       "      <td>15</td>\n",
       "      <td>11</td>\n",
       "      <td>94720</td>\n",
       "      <td>1</td>\n",
       "      <td>1.0</td>\n",
       "      <td>1</td>\n",
       "      <td>0</td>\n",
       "      <td>0</td>\n",
       "      <td>0</td>\n",
       "      <td>0</td>\n",
       "      <td>0</td>\n",
       "      <td>0</td>\n",
       "    </tr>\n",
       "    <tr>\n",
       "      <th>3</th>\n",
       "      <td>4</td>\n",
       "      <td>35</td>\n",
       "      <td>9</td>\n",
       "      <td>100</td>\n",
       "      <td>94112</td>\n",
       "      <td>1</td>\n",
       "      <td>2.7</td>\n",
       "      <td>2</td>\n",
       "      <td>0</td>\n",
       "      <td>0</td>\n",
       "      <td>0</td>\n",
       "      <td>0</td>\n",
       "      <td>0</td>\n",
       "      <td>0</td>\n",
       "    </tr>\n",
       "    <tr>\n",
       "      <th>4</th>\n",
       "      <td>5</td>\n",
       "      <td>35</td>\n",
       "      <td>8</td>\n",
       "      <td>45</td>\n",
       "      <td>91330</td>\n",
       "      <td>4</td>\n",
       "      <td>1.0</td>\n",
       "      <td>2</td>\n",
       "      <td>0</td>\n",
       "      <td>0</td>\n",
       "      <td>0</td>\n",
       "      <td>0</td>\n",
       "      <td>0</td>\n",
       "      <td>1</td>\n",
       "    </tr>\n",
       "  </tbody>\n",
       "</table>\n",
       "</div>"
      ],
      "text/plain": [
       "   ID  Age  Experience  Income  ZIP Code  Family  CCAvg  Education  Mortgage  \\\n",
       "0   1   25           1      49     91107       4    1.6          1         0   \n",
       "1   2   45          19      34     90089       3    1.5          1         0   \n",
       "2   3   39          15      11     94720       1    1.0          1         0   \n",
       "3   4   35           9     100     94112       1    2.7          2         0   \n",
       "4   5   35           8      45     91330       4    1.0          2         0   \n",
       "\n",
       "   Personal Loan  Securities Account  CD Account  Online  CreditCard  \n",
       "0              0                   1           0       0           0  \n",
       "1              0                   1           0       0           0  \n",
       "2              0                   0           0       0           0  \n",
       "3              0                   0           0       0           0  \n",
       "4              0                   0           0       0           1  "
      ]
     },
     "execution_count": 50,
     "metadata": {},
     "output_type": "execute_result"
    }
   ],
   "source": [
    "# Check the first few rows of the import\n",
    "ploan.head()"
   ]
  },
  {
   "cell_type": "code",
   "execution_count": 51,
   "metadata": {},
   "outputs": [
    {
     "name": "stdout",
     "output_type": "stream",
     "text": [
      "<class 'pandas.core.frame.DataFrame'>\n",
      "RangeIndex: 5000 entries, 0 to 4999\n",
      "Data columns (total 14 columns):\n",
      "ID                    5000 non-null int64\n",
      "Age                   5000 non-null int64\n",
      "Experience            5000 non-null int64\n",
      "Income                5000 non-null int64\n",
      "ZIP Code              5000 non-null int64\n",
      "Family                5000 non-null int64\n",
      "CCAvg                 5000 non-null float64\n",
      "Education             5000 non-null int64\n",
      "Mortgage              5000 non-null int64\n",
      "Personal Loan         5000 non-null int64\n",
      "Securities Account    5000 non-null int64\n",
      "CD Account            5000 non-null int64\n",
      "Online                5000 non-null int64\n",
      "CreditCard            5000 non-null int64\n",
      "dtypes: float64(1), int64(13)\n",
      "memory usage: 547.0 KB\n"
     ]
    }
   ],
   "source": [
    "# Check for the data type of each Series\n",
    "ploan.info()"
   ]
  },
  {
   "cell_type": "code",
   "execution_count": 52,
   "metadata": {},
   "outputs": [
    {
     "data": {
      "text/html": [
       "<div>\n",
       "<style scoped>\n",
       "    .dataframe tbody tr th:only-of-type {\n",
       "        vertical-align: middle;\n",
       "    }\n",
       "\n",
       "    .dataframe tbody tr th {\n",
       "        vertical-align: top;\n",
       "    }\n",
       "\n",
       "    .dataframe thead th {\n",
       "        text-align: right;\n",
       "    }\n",
       "</style>\n",
       "<table border=\"1\" class=\"dataframe\">\n",
       "  <thead>\n",
       "    <tr style=\"text-align: right;\">\n",
       "      <th></th>\n",
       "      <th>ID</th>\n",
       "      <th>Age</th>\n",
       "      <th>Experience</th>\n",
       "      <th>Income</th>\n",
       "      <th>ZIP Code</th>\n",
       "      <th>Family</th>\n",
       "      <th>CCAvg</th>\n",
       "      <th>Education</th>\n",
       "      <th>Mortgage</th>\n",
       "      <th>Personal Loan</th>\n",
       "      <th>Securities Account</th>\n",
       "      <th>CD Account</th>\n",
       "      <th>Online</th>\n",
       "      <th>CreditCard</th>\n",
       "    </tr>\n",
       "  </thead>\n",
       "  <tbody>\n",
       "    <tr>\n",
       "      <th>count</th>\n",
       "      <td>5000.000000</td>\n",
       "      <td>5000.000000</td>\n",
       "      <td>5000.000000</td>\n",
       "      <td>5000.000000</td>\n",
       "      <td>5000.000000</td>\n",
       "      <td>5000.000000</td>\n",
       "      <td>5000.000000</td>\n",
       "      <td>5000.000000</td>\n",
       "      <td>5000.000000</td>\n",
       "      <td>5000.000000</td>\n",
       "      <td>5000.000000</td>\n",
       "      <td>5000.00000</td>\n",
       "      <td>5000.000000</td>\n",
       "      <td>5000.000000</td>\n",
       "    </tr>\n",
       "    <tr>\n",
       "      <th>mean</th>\n",
       "      <td>2500.500000</td>\n",
       "      <td>45.338400</td>\n",
       "      <td>20.104600</td>\n",
       "      <td>73.774200</td>\n",
       "      <td>93152.503000</td>\n",
       "      <td>2.396400</td>\n",
       "      <td>1.937938</td>\n",
       "      <td>1.881000</td>\n",
       "      <td>56.498800</td>\n",
       "      <td>0.096000</td>\n",
       "      <td>0.104400</td>\n",
       "      <td>0.06040</td>\n",
       "      <td>0.596800</td>\n",
       "      <td>0.294000</td>\n",
       "    </tr>\n",
       "    <tr>\n",
       "      <th>std</th>\n",
       "      <td>1443.520003</td>\n",
       "      <td>11.463166</td>\n",
       "      <td>11.467954</td>\n",
       "      <td>46.033729</td>\n",
       "      <td>2121.852197</td>\n",
       "      <td>1.147663</td>\n",
       "      <td>1.747659</td>\n",
       "      <td>0.839869</td>\n",
       "      <td>101.713802</td>\n",
       "      <td>0.294621</td>\n",
       "      <td>0.305809</td>\n",
       "      <td>0.23825</td>\n",
       "      <td>0.490589</td>\n",
       "      <td>0.455637</td>\n",
       "    </tr>\n",
       "    <tr>\n",
       "      <th>min</th>\n",
       "      <td>1.000000</td>\n",
       "      <td>23.000000</td>\n",
       "      <td>-3.000000</td>\n",
       "      <td>8.000000</td>\n",
       "      <td>9307.000000</td>\n",
       "      <td>1.000000</td>\n",
       "      <td>0.000000</td>\n",
       "      <td>1.000000</td>\n",
       "      <td>0.000000</td>\n",
       "      <td>0.000000</td>\n",
       "      <td>0.000000</td>\n",
       "      <td>0.00000</td>\n",
       "      <td>0.000000</td>\n",
       "      <td>0.000000</td>\n",
       "    </tr>\n",
       "    <tr>\n",
       "      <th>25%</th>\n",
       "      <td>1250.750000</td>\n",
       "      <td>35.000000</td>\n",
       "      <td>10.000000</td>\n",
       "      <td>39.000000</td>\n",
       "      <td>91911.000000</td>\n",
       "      <td>1.000000</td>\n",
       "      <td>0.700000</td>\n",
       "      <td>1.000000</td>\n",
       "      <td>0.000000</td>\n",
       "      <td>0.000000</td>\n",
       "      <td>0.000000</td>\n",
       "      <td>0.00000</td>\n",
       "      <td>0.000000</td>\n",
       "      <td>0.000000</td>\n",
       "    </tr>\n",
       "    <tr>\n",
       "      <th>50%</th>\n",
       "      <td>2500.500000</td>\n",
       "      <td>45.000000</td>\n",
       "      <td>20.000000</td>\n",
       "      <td>64.000000</td>\n",
       "      <td>93437.000000</td>\n",
       "      <td>2.000000</td>\n",
       "      <td>1.500000</td>\n",
       "      <td>2.000000</td>\n",
       "      <td>0.000000</td>\n",
       "      <td>0.000000</td>\n",
       "      <td>0.000000</td>\n",
       "      <td>0.00000</td>\n",
       "      <td>1.000000</td>\n",
       "      <td>0.000000</td>\n",
       "    </tr>\n",
       "    <tr>\n",
       "      <th>75%</th>\n",
       "      <td>3750.250000</td>\n",
       "      <td>55.000000</td>\n",
       "      <td>30.000000</td>\n",
       "      <td>98.000000</td>\n",
       "      <td>94608.000000</td>\n",
       "      <td>3.000000</td>\n",
       "      <td>2.500000</td>\n",
       "      <td>3.000000</td>\n",
       "      <td>101.000000</td>\n",
       "      <td>0.000000</td>\n",
       "      <td>0.000000</td>\n",
       "      <td>0.00000</td>\n",
       "      <td>1.000000</td>\n",
       "      <td>1.000000</td>\n",
       "    </tr>\n",
       "    <tr>\n",
       "      <th>max</th>\n",
       "      <td>5000.000000</td>\n",
       "      <td>67.000000</td>\n",
       "      <td>43.000000</td>\n",
       "      <td>224.000000</td>\n",
       "      <td>96651.000000</td>\n",
       "      <td>4.000000</td>\n",
       "      <td>10.000000</td>\n",
       "      <td>3.000000</td>\n",
       "      <td>635.000000</td>\n",
       "      <td>1.000000</td>\n",
       "      <td>1.000000</td>\n",
       "      <td>1.00000</td>\n",
       "      <td>1.000000</td>\n",
       "      <td>1.000000</td>\n",
       "    </tr>\n",
       "  </tbody>\n",
       "</table>\n",
       "</div>"
      ],
      "text/plain": [
       "                ID          Age   Experience       Income      ZIP Code  \\\n",
       "count  5000.000000  5000.000000  5000.000000  5000.000000   5000.000000   \n",
       "mean   2500.500000    45.338400    20.104600    73.774200  93152.503000   \n",
       "std    1443.520003    11.463166    11.467954    46.033729   2121.852197   \n",
       "min       1.000000    23.000000    -3.000000     8.000000   9307.000000   \n",
       "25%    1250.750000    35.000000    10.000000    39.000000  91911.000000   \n",
       "50%    2500.500000    45.000000    20.000000    64.000000  93437.000000   \n",
       "75%    3750.250000    55.000000    30.000000    98.000000  94608.000000   \n",
       "max    5000.000000    67.000000    43.000000   224.000000  96651.000000   \n",
       "\n",
       "            Family        CCAvg    Education     Mortgage  Personal Loan  \\\n",
       "count  5000.000000  5000.000000  5000.000000  5000.000000    5000.000000   \n",
       "mean      2.396400     1.937938     1.881000    56.498800       0.096000   \n",
       "std       1.147663     1.747659     0.839869   101.713802       0.294621   \n",
       "min       1.000000     0.000000     1.000000     0.000000       0.000000   \n",
       "25%       1.000000     0.700000     1.000000     0.000000       0.000000   \n",
       "50%       2.000000     1.500000     2.000000     0.000000       0.000000   \n",
       "75%       3.000000     2.500000     3.000000   101.000000       0.000000   \n",
       "max       4.000000    10.000000     3.000000   635.000000       1.000000   \n",
       "\n",
       "       Securities Account  CD Account       Online   CreditCard  \n",
       "count         5000.000000  5000.00000  5000.000000  5000.000000  \n",
       "mean             0.104400     0.06040     0.596800     0.294000  \n",
       "std              0.305809     0.23825     0.490589     0.455637  \n",
       "min              0.000000     0.00000     0.000000     0.000000  \n",
       "25%              0.000000     0.00000     0.000000     0.000000  \n",
       "50%              0.000000     0.00000     1.000000     0.000000  \n",
       "75%              0.000000     0.00000     1.000000     1.000000  \n",
       "max              1.000000     1.00000     1.000000     1.000000  "
      ]
     },
     "execution_count": 52,
     "metadata": {},
     "output_type": "execute_result"
    }
   ],
   "source": [
    "# Statistical Summary of ploan\n",
    "ploan.describe()"
   ]
  },
  {
   "cell_type": "code",
   "execution_count": 53,
   "metadata": {},
   "outputs": [
    {
     "name": "stdout",
     "output_type": "stream",
     "text": [
      "        ID  Age  Experience  Income  ZIP Code  Family  CCAvg  Education  \\\n",
      "2618  2619   23          -3      55     92704       3    2.4          2   \n",
      "3626  3627   24          -3      28     90089       4    1.0          3   \n",
      "4285  4286   23          -3     149     93555       2    7.2          1   \n",
      "4514  4515   24          -3      41     91768       4    1.0          3   \n",
      "\n",
      "      Mortgage  Personal Loan  Securities Account  CD Account  Online  \\\n",
      "2618       145              0                   0           0       1   \n",
      "3626         0              0                   0           0       0   \n",
      "4285         0              0                   0           0       1   \n",
      "4514         0              0                   0           0       1   \n",
      "\n",
      "      CreditCard  \n",
      "2618           0  \n",
      "3626           0  \n",
      "4285           0  \n",
      "4514           0  \n",
      "\n",
      "-3 years experience seems to have been incorrectly imputed\n"
     ]
    }
   ],
   "source": [
    "# How is it possible that years of experience has -3 as a value?\n",
    "emask = ploan.Experience== -3\n",
    "\n",
    "print(ploan[emask])\n",
    "print('')\n",
    "print('-3 years experience seems to have been incorrectly imputed')"
   ]
  },
  {
   "cell_type": "code",
   "execution_count": 54,
   "metadata": {
    "scrolled": true
   },
   "outputs": [
    {
     "data": {
      "text/plain": [
       "Age                  -0.029341\n",
       "Experience           -0.026325\n",
       "Income                0.841339\n",
       "Family                0.155221\n",
       "CCAvg                 1.598443\n",
       "Education             0.227093\n",
       "Mortgage              2.104002\n",
       "Personal Loan         2.743607\n",
       "Securities Account    2.588268\n",
       "CD Account            3.691714\n",
       "Online               -0.394785\n",
       "CreditCard            0.904589\n",
       "dtype: float64"
      ]
     },
     "execution_count": 54,
     "metadata": {},
     "output_type": "execute_result"
    }
   ],
   "source": [
    "#How skewed is the dataset?\n",
    "ploan.drop(['ID','ZIP Code'], axis = 1).skew()"
   ]
  },
  {
   "cell_type": "code",
   "execution_count": 55,
   "metadata": {},
   "outputs": [
    {
     "data": {
      "text/plain": [
       "(5000, 14)"
      ]
     },
     "execution_count": 55,
     "metadata": {},
     "output_type": "execute_result"
    }
   ],
   "source": [
    "# Dimension of ploan\n",
    "ploan.shape"
   ]
  },
  {
   "cell_type": "code",
   "execution_count": 56,
   "metadata": {},
   "outputs": [
    {
     "data": {
      "text/plain": [
       "ID                    0\n",
       "Age                   0\n",
       "Experience            0\n",
       "Income                0\n",
       "ZIP Code              0\n",
       "Family                0\n",
       "CCAvg                 0\n",
       "Education             0\n",
       "Mortgage              0\n",
       "Personal Loan         0\n",
       "Securities Account    0\n",
       "CD Account            0\n",
       "Online                0\n",
       "CreditCard            0\n",
       "dtype: int64"
      ]
     },
     "execution_count": 56,
     "metadata": {},
     "output_type": "execute_result"
    }
   ],
   "source": [
    "# How many null values are there, if any?\n",
    "ploan.isnull().sum()"
   ]
  },
  {
   "cell_type": "markdown",
   "metadata": {},
   "source": [
    "### Question 2. EDA: Study the data distribution in each attribute and target variable, share your findings"
   ]
  },
  {
   "cell_type": "code",
   "execution_count": 57,
   "metadata": {
    "scrolled": true
   },
   "outputs": [
    {
     "data": {
      "text/html": [
       "<div>\n",
       "<style scoped>\n",
       "    .dataframe tbody tr th:only-of-type {\n",
       "        vertical-align: middle;\n",
       "    }\n",
       "\n",
       "    .dataframe tbody tr th {\n",
       "        vertical-align: top;\n",
       "    }\n",
       "\n",
       "    .dataframe thead th {\n",
       "        text-align: right;\n",
       "    }\n",
       "</style>\n",
       "<table border=\"1\" class=\"dataframe\">\n",
       "  <thead>\n",
       "    <tr style=\"text-align: right;\">\n",
       "      <th></th>\n",
       "      <th>ID</th>\n",
       "      <th>Age</th>\n",
       "      <th>Experience</th>\n",
       "      <th>Income</th>\n",
       "      <th>ZIP Code</th>\n",
       "      <th>Family</th>\n",
       "      <th>CCAvg</th>\n",
       "      <th>Education</th>\n",
       "      <th>Mortgage</th>\n",
       "      <th>Personal Loan</th>\n",
       "      <th>Securities Account</th>\n",
       "      <th>CD Account</th>\n",
       "      <th>Online</th>\n",
       "      <th>CreditCard</th>\n",
       "    </tr>\n",
       "  </thead>\n",
       "  <tbody>\n",
       "    <tr>\n",
       "      <th>ID</th>\n",
       "      <td>1.000000</td>\n",
       "      <td>-0.008473</td>\n",
       "      <td>-0.008326</td>\n",
       "      <td>-0.017695</td>\n",
       "      <td>0.013432</td>\n",
       "      <td>-0.016797</td>\n",
       "      <td>-0.024675</td>\n",
       "      <td>0.021463</td>\n",
       "      <td>-0.013920</td>\n",
       "      <td>-0.024801</td>\n",
       "      <td>-0.016972</td>\n",
       "      <td>-0.006909</td>\n",
       "      <td>-0.002528</td>\n",
       "      <td>0.017028</td>\n",
       "    </tr>\n",
       "    <tr>\n",
       "      <th>Age</th>\n",
       "      <td>-0.008473</td>\n",
       "      <td>1.000000</td>\n",
       "      <td>0.994215</td>\n",
       "      <td>-0.055269</td>\n",
       "      <td>-0.029216</td>\n",
       "      <td>-0.046418</td>\n",
       "      <td>-0.052012</td>\n",
       "      <td>0.041334</td>\n",
       "      <td>-0.012539</td>\n",
       "      <td>-0.007726</td>\n",
       "      <td>-0.000436</td>\n",
       "      <td>0.008043</td>\n",
       "      <td>0.013702</td>\n",
       "      <td>0.007681</td>\n",
       "    </tr>\n",
       "    <tr>\n",
       "      <th>Experience</th>\n",
       "      <td>-0.008326</td>\n",
       "      <td>0.994215</td>\n",
       "      <td>1.000000</td>\n",
       "      <td>-0.046574</td>\n",
       "      <td>-0.028626</td>\n",
       "      <td>-0.052563</td>\n",
       "      <td>-0.050077</td>\n",
       "      <td>0.013152</td>\n",
       "      <td>-0.010582</td>\n",
       "      <td>-0.007413</td>\n",
       "      <td>-0.001232</td>\n",
       "      <td>0.010353</td>\n",
       "      <td>0.013898</td>\n",
       "      <td>0.008967</td>\n",
       "    </tr>\n",
       "    <tr>\n",
       "      <th>Income</th>\n",
       "      <td>-0.017695</td>\n",
       "      <td>-0.055269</td>\n",
       "      <td>-0.046574</td>\n",
       "      <td>1.000000</td>\n",
       "      <td>-0.016410</td>\n",
       "      <td>-0.157501</td>\n",
       "      <td>0.645984</td>\n",
       "      <td>-0.187524</td>\n",
       "      <td>0.206806</td>\n",
       "      <td>0.502462</td>\n",
       "      <td>-0.002616</td>\n",
       "      <td>0.169738</td>\n",
       "      <td>0.014206</td>\n",
       "      <td>-0.002385</td>\n",
       "    </tr>\n",
       "    <tr>\n",
       "      <th>ZIP Code</th>\n",
       "      <td>0.013432</td>\n",
       "      <td>-0.029216</td>\n",
       "      <td>-0.028626</td>\n",
       "      <td>-0.016410</td>\n",
       "      <td>1.000000</td>\n",
       "      <td>0.011778</td>\n",
       "      <td>-0.004061</td>\n",
       "      <td>-0.017377</td>\n",
       "      <td>0.007383</td>\n",
       "      <td>0.000107</td>\n",
       "      <td>0.004704</td>\n",
       "      <td>0.019972</td>\n",
       "      <td>0.016990</td>\n",
       "      <td>0.007691</td>\n",
       "    </tr>\n",
       "    <tr>\n",
       "      <th>Family</th>\n",
       "      <td>-0.016797</td>\n",
       "      <td>-0.046418</td>\n",
       "      <td>-0.052563</td>\n",
       "      <td>-0.157501</td>\n",
       "      <td>0.011778</td>\n",
       "      <td>1.000000</td>\n",
       "      <td>-0.109275</td>\n",
       "      <td>0.064929</td>\n",
       "      <td>-0.020445</td>\n",
       "      <td>0.061367</td>\n",
       "      <td>0.019994</td>\n",
       "      <td>0.014110</td>\n",
       "      <td>0.010354</td>\n",
       "      <td>0.011588</td>\n",
       "    </tr>\n",
       "    <tr>\n",
       "      <th>CCAvg</th>\n",
       "      <td>-0.024675</td>\n",
       "      <td>-0.052012</td>\n",
       "      <td>-0.050077</td>\n",
       "      <td>0.645984</td>\n",
       "      <td>-0.004061</td>\n",
       "      <td>-0.109275</td>\n",
       "      <td>1.000000</td>\n",
       "      <td>-0.136124</td>\n",
       "      <td>0.109905</td>\n",
       "      <td>0.366889</td>\n",
       "      <td>0.015086</td>\n",
       "      <td>0.136534</td>\n",
       "      <td>-0.003611</td>\n",
       "      <td>-0.006689</td>\n",
       "    </tr>\n",
       "    <tr>\n",
       "      <th>Education</th>\n",
       "      <td>0.021463</td>\n",
       "      <td>0.041334</td>\n",
       "      <td>0.013152</td>\n",
       "      <td>-0.187524</td>\n",
       "      <td>-0.017377</td>\n",
       "      <td>0.064929</td>\n",
       "      <td>-0.136124</td>\n",
       "      <td>1.000000</td>\n",
       "      <td>-0.033327</td>\n",
       "      <td>0.136722</td>\n",
       "      <td>-0.010812</td>\n",
       "      <td>0.013934</td>\n",
       "      <td>-0.015004</td>\n",
       "      <td>-0.011014</td>\n",
       "    </tr>\n",
       "    <tr>\n",
       "      <th>Mortgage</th>\n",
       "      <td>-0.013920</td>\n",
       "      <td>-0.012539</td>\n",
       "      <td>-0.010582</td>\n",
       "      <td>0.206806</td>\n",
       "      <td>0.007383</td>\n",
       "      <td>-0.020445</td>\n",
       "      <td>0.109905</td>\n",
       "      <td>-0.033327</td>\n",
       "      <td>1.000000</td>\n",
       "      <td>0.142095</td>\n",
       "      <td>-0.005411</td>\n",
       "      <td>0.089311</td>\n",
       "      <td>-0.005995</td>\n",
       "      <td>-0.007231</td>\n",
       "    </tr>\n",
       "    <tr>\n",
       "      <th>Personal Loan</th>\n",
       "      <td>-0.024801</td>\n",
       "      <td>-0.007726</td>\n",
       "      <td>-0.007413</td>\n",
       "      <td>0.502462</td>\n",
       "      <td>0.000107</td>\n",
       "      <td>0.061367</td>\n",
       "      <td>0.366889</td>\n",
       "      <td>0.136722</td>\n",
       "      <td>0.142095</td>\n",
       "      <td>1.000000</td>\n",
       "      <td>0.021954</td>\n",
       "      <td>0.316355</td>\n",
       "      <td>0.006278</td>\n",
       "      <td>0.002802</td>\n",
       "    </tr>\n",
       "    <tr>\n",
       "      <th>Securities Account</th>\n",
       "      <td>-0.016972</td>\n",
       "      <td>-0.000436</td>\n",
       "      <td>-0.001232</td>\n",
       "      <td>-0.002616</td>\n",
       "      <td>0.004704</td>\n",
       "      <td>0.019994</td>\n",
       "      <td>0.015086</td>\n",
       "      <td>-0.010812</td>\n",
       "      <td>-0.005411</td>\n",
       "      <td>0.021954</td>\n",
       "      <td>1.000000</td>\n",
       "      <td>0.317034</td>\n",
       "      <td>0.012627</td>\n",
       "      <td>-0.015028</td>\n",
       "    </tr>\n",
       "    <tr>\n",
       "      <th>CD Account</th>\n",
       "      <td>-0.006909</td>\n",
       "      <td>0.008043</td>\n",
       "      <td>0.010353</td>\n",
       "      <td>0.169738</td>\n",
       "      <td>0.019972</td>\n",
       "      <td>0.014110</td>\n",
       "      <td>0.136534</td>\n",
       "      <td>0.013934</td>\n",
       "      <td>0.089311</td>\n",
       "      <td>0.316355</td>\n",
       "      <td>0.317034</td>\n",
       "      <td>1.000000</td>\n",
       "      <td>0.175880</td>\n",
       "      <td>0.278644</td>\n",
       "    </tr>\n",
       "    <tr>\n",
       "      <th>Online</th>\n",
       "      <td>-0.002528</td>\n",
       "      <td>0.013702</td>\n",
       "      <td>0.013898</td>\n",
       "      <td>0.014206</td>\n",
       "      <td>0.016990</td>\n",
       "      <td>0.010354</td>\n",
       "      <td>-0.003611</td>\n",
       "      <td>-0.015004</td>\n",
       "      <td>-0.005995</td>\n",
       "      <td>0.006278</td>\n",
       "      <td>0.012627</td>\n",
       "      <td>0.175880</td>\n",
       "      <td>1.000000</td>\n",
       "      <td>0.004210</td>\n",
       "    </tr>\n",
       "    <tr>\n",
       "      <th>CreditCard</th>\n",
       "      <td>0.017028</td>\n",
       "      <td>0.007681</td>\n",
       "      <td>0.008967</td>\n",
       "      <td>-0.002385</td>\n",
       "      <td>0.007691</td>\n",
       "      <td>0.011588</td>\n",
       "      <td>-0.006689</td>\n",
       "      <td>-0.011014</td>\n",
       "      <td>-0.007231</td>\n",
       "      <td>0.002802</td>\n",
       "      <td>-0.015028</td>\n",
       "      <td>0.278644</td>\n",
       "      <td>0.004210</td>\n",
       "      <td>1.000000</td>\n",
       "    </tr>\n",
       "  </tbody>\n",
       "</table>\n",
       "</div>"
      ],
      "text/plain": [
       "                          ID       Age  Experience    Income  ZIP Code  \\\n",
       "ID                  1.000000 -0.008473   -0.008326 -0.017695  0.013432   \n",
       "Age                -0.008473  1.000000    0.994215 -0.055269 -0.029216   \n",
       "Experience         -0.008326  0.994215    1.000000 -0.046574 -0.028626   \n",
       "Income             -0.017695 -0.055269   -0.046574  1.000000 -0.016410   \n",
       "ZIP Code            0.013432 -0.029216   -0.028626 -0.016410  1.000000   \n",
       "Family             -0.016797 -0.046418   -0.052563 -0.157501  0.011778   \n",
       "CCAvg              -0.024675 -0.052012   -0.050077  0.645984 -0.004061   \n",
       "Education           0.021463  0.041334    0.013152 -0.187524 -0.017377   \n",
       "Mortgage           -0.013920 -0.012539   -0.010582  0.206806  0.007383   \n",
       "Personal Loan      -0.024801 -0.007726   -0.007413  0.502462  0.000107   \n",
       "Securities Account -0.016972 -0.000436   -0.001232 -0.002616  0.004704   \n",
       "CD Account         -0.006909  0.008043    0.010353  0.169738  0.019972   \n",
       "Online             -0.002528  0.013702    0.013898  0.014206  0.016990   \n",
       "CreditCard          0.017028  0.007681    0.008967 -0.002385  0.007691   \n",
       "\n",
       "                      Family     CCAvg  Education  Mortgage  Personal Loan  \\\n",
       "ID                 -0.016797 -0.024675   0.021463 -0.013920      -0.024801   \n",
       "Age                -0.046418 -0.052012   0.041334 -0.012539      -0.007726   \n",
       "Experience         -0.052563 -0.050077   0.013152 -0.010582      -0.007413   \n",
       "Income             -0.157501  0.645984  -0.187524  0.206806       0.502462   \n",
       "ZIP Code            0.011778 -0.004061  -0.017377  0.007383       0.000107   \n",
       "Family              1.000000 -0.109275   0.064929 -0.020445       0.061367   \n",
       "CCAvg              -0.109275  1.000000  -0.136124  0.109905       0.366889   \n",
       "Education           0.064929 -0.136124   1.000000 -0.033327       0.136722   \n",
       "Mortgage           -0.020445  0.109905  -0.033327  1.000000       0.142095   \n",
       "Personal Loan       0.061367  0.366889   0.136722  0.142095       1.000000   \n",
       "Securities Account  0.019994  0.015086  -0.010812 -0.005411       0.021954   \n",
       "CD Account          0.014110  0.136534   0.013934  0.089311       0.316355   \n",
       "Online              0.010354 -0.003611  -0.015004 -0.005995       0.006278   \n",
       "CreditCard          0.011588 -0.006689  -0.011014 -0.007231       0.002802   \n",
       "\n",
       "                    Securities Account  CD Account    Online  CreditCard  \n",
       "ID                           -0.016972   -0.006909 -0.002528    0.017028  \n",
       "Age                          -0.000436    0.008043  0.013702    0.007681  \n",
       "Experience                   -0.001232    0.010353  0.013898    0.008967  \n",
       "Income                       -0.002616    0.169738  0.014206   -0.002385  \n",
       "ZIP Code                      0.004704    0.019972  0.016990    0.007691  \n",
       "Family                        0.019994    0.014110  0.010354    0.011588  \n",
       "CCAvg                         0.015086    0.136534 -0.003611   -0.006689  \n",
       "Education                    -0.010812    0.013934 -0.015004   -0.011014  \n",
       "Mortgage                     -0.005411    0.089311 -0.005995   -0.007231  \n",
       "Personal Loan                 0.021954    0.316355  0.006278    0.002802  \n",
       "Securities Account            1.000000    0.317034  0.012627   -0.015028  \n",
       "CD Account                    0.317034    1.000000  0.175880    0.278644  \n",
       "Online                        0.012627    0.175880  1.000000    0.004210  \n",
       "CreditCard                   -0.015028    0.278644  0.004210    1.000000  "
      ]
     },
     "execution_count": 57,
     "metadata": {},
     "output_type": "execute_result"
    }
   ],
   "source": [
    "ploan.corr()"
   ]
  },
  {
   "cell_type": "code",
   "execution_count": 58,
   "metadata": {},
   "outputs": [
    {
     "data": {
      "text/plain": [
       "<matplotlib.axes._subplots.AxesSubplot at 0x1dce99a62c8>"
      ]
     },
     "execution_count": 58,
     "metadata": {},
     "output_type": "execute_result"
    },
    {
     "name": "stdout",
     "output_type": "stream",
     "text": [
      "\n",
      "Age Series shows a multimodal distribution and skewness of -0.03\n"
     ]
    },
    {
     "data": {
      "image/png": "[encoded data removed]",
      "text/plain": [
       "<Figure size 432x288 with 1 Axes>"
      ]
     },
     "metadata": {
      "needs_background": "light"
     },
     "output_type": "display_data"
    }
   ],
   "source": [
    "sns.distplot(ploan.Age)\n",
    "\n",
    "print(\"\")\n",
    "print(f'Age Series shows a multimodal distribution and skewness of {sp.stats.skew(ploan.Age): .2f}')\n"
   ]
  },
  {
   "cell_type": "code",
   "execution_count": 59,
   "metadata": {},
   "outputs": [
    {
     "data": {
      "text/plain": [
       "<matplotlib.axes._subplots.AxesSubplot at 0x1dce9a1d808>"
      ]
     },
     "execution_count": 59,
     "metadata": {},
     "output_type": "execute_result"
    },
    {
     "name": "stdout",
     "output_type": "stream",
     "text": [
      "There are 47 unique values of years of working experience among the customers\n",
      "Experience shows a multimodal distribution and skewness of -0.03\n",
      "There are 4 data points in Experience Series that are negative (-3 years). \n",
      "Since number of years of experience can only be positive, these data points are wrongly imputed.\n"
     ]
    },
    {
     "data": {
      "image/png": "[encoded data removed]",
      "text/plain": [
       "<Figure size 432x288 with 1 Axes>"
      ]
     },
     "metadata": {
      "needs_background": "light"
     },
     "output_type": "display_data"
    }
   ],
   "source": [
    "sns.distplot(ploan.Experience);\n",
    "newline = '\\n'\n",
    "print(f'There are {ploan.Experience.nunique()} unique values of years of working experience among the customers')\n",
    "print(f'Experience shows a multimodal distribution and skewness of {sp.stats.skew(ploan.Experience): .2f}')\n",
    "print(f'There are {ploan.Experience[emask].shape[0]} data points in Experience Series that are negative (-3 years). \\\n",
    "{newline}Since number of years of experience can only be positive, these data points are wrongly imputed.')"
   ]
  },
  {
   "cell_type": "code",
   "execution_count": 60,
   "metadata": {},
   "outputs": [
    {
     "data": {
      "text/plain": [
       "<matplotlib.axes._subplots.AxesSubplot at 0x1dce9ab9dc8>"
      ]
     },
     "execution_count": 60,
     "metadata": {},
     "output_type": "execute_result"
    },
    {
     "name": "stdout",
     "output_type": "stream",
     "text": [
      "The most income earned is 44 USD.\n",
      "50% of the customers earn at least  64 USD.\n",
      "The Income Series has a moderate positive skewness of  0.84\n",
      "There are 162 unique salaries for customers in this distribution.\n"
     ]
    },
    {
     "data": {
      "image/png": "[encoded data removed]",
      "text/plain": [
       "<Figure size 432x288 with 1 Axes>"
      ]
     },
     "metadata": {
      "needs_background": "light"
     },
     "output_type": "display_data"
    }
   ],
   "source": [
    "sns.distplot(ploan.Income)\n",
    "\n",
    "print(f'The most income earned is {statistics.mode(ploan.Income)} USD.')\n",
    "print(f'50% of the customers earn at least {ploan.Income.median(): .0f} USD.')\n",
    "print(f'The Income Series has a moderate positive skewness of {sp.stats.skew(ploan.Income): .2f}')\n",
    "print(f'There are {ploan.Income.nunique()} unique salaries for customers in this distribution.')"
   ]
  },
  {
   "cell_type": "code",
   "execution_count": 61,
   "metadata": {
    "scrolled": false
   },
   "outputs": [
    {
     "data": {
      "text/plain": [
       "<matplotlib.axes._subplots.AxesSubplot at 0x1dce9bc5788>"
      ]
     },
     "execution_count": 61,
     "metadata": {},
     "output_type": "execute_result"
    },
    {
     "name": "stdout",
     "output_type": "stream",
     "text": [
      "Most customers do not have children.\n",
      "There are 4 categories of families among the customers.\n",
      "There are 1472 customers with family size 1,      \n",
      "1296 customers with family size 2,      \n",
      "1010 customers with family size 3 and      \n",
      "1222 customers with family size 4\n"
     ]
    },
    {
     "data": {
      "image/png": "[encoded data removed]",
      "text/plain": [
       "<Figure size 432x288 with 1 Axes>"
      ]
     },
     "metadata": {
      "needs_background": "light"
     },
     "output_type": "display_data"
    }
   ],
   "source": [
    "sns.countplot(ploan.Family)\n",
    "newline = '\\n'\n",
    "\n",
    "print(f'Most customers do not have children.')\n",
    "print(f'There are {ploan.Family.nunique()} categories of families among the customers.')\n",
    "fam = [i for i in ploan.Family.value_counts()]\n",
    "print(f'There are {fam[0]} customers with family size 1,\\\n",
    "      {newline}{fam[1]} customers with family size 2,\\\n",
    "      {newline}{fam[3]} customers with family size 3 and\\\n",
    "      {newline}{fam[2]} customers with family size 4')"
   ]
  },
  {
   "cell_type": "code",
   "execution_count": 62,
   "metadata": {},
   "outputs": [],
   "source": [
    "# fam=[]\n",
    "# for i in ploan.Family.value_counts():\n",
    "#     fam.append(i)\n",
    "# fam[0]\n",
    "\n",
    "fam = [i for i in ploan.Family.value_counts()]"
   ]
  },
  {
   "cell_type": "code",
   "execution_count": 63,
   "metadata": {},
   "outputs": [
    {
     "data": {
      "text/plain": [
       "<matplotlib.axes._subplots.AxesSubplot at 0x1dce9c18708>"
      ]
     },
     "execution_count": 63,
     "metadata": {},
     "output_type": "execute_result"
    },
    {
     "name": "stdout",
     "output_type": "stream",
     "text": [
      "There are 108 unique credit card spendings monthly.\n",
      "106 customers have zero credit card spending monthly.\n",
      "Credit card spending distribution has a positive skew of  1.60.\n",
      "50% of the customers spend  2 USD or below from their credit cards monthly.\n"
     ]
    },
    {
     "data": {
      "image/png": "[encoded data removed]",
      "text/plain": [
       "<Figure size 432x288 with 1 Axes>"
      ]
     },
     "metadata": {
      "needs_background": "light"
     },
     "output_type": "display_data"
    }
   ],
   "source": [
    "sns.distplot(ploan.CCAvg)\n",
    "cmask = ploan.CCAvg== 0\n",
    "\n",
    "print(f'There are {ploan.CCAvg.nunique()} unique credit card spendings monthly.')\n",
    "print(f'{ploan.CCAvg[cmask].value_counts().sum()} customers have zero credit card spending monthly.')\n",
    "print(f'Credit card spending distribution has a positive skew of {sp.stats.skew(ploan.CCAvg) : .2f}.')\n",
    "print(f'50% of the customers spend {ploan.CCAvg.median(): .0f} USD or below from their credit cards monthly.')"
   ]
  },
  {
   "cell_type": "code",
   "execution_count": 64,
   "metadata": {},
   "outputs": [
    {
     "data": {
      "text/plain": [
       "<matplotlib.axes._subplots.AxesSubplot at 0x1dce9d0e308>"
      ]
     },
     "execution_count": 64,
     "metadata": {},
     "output_type": "execute_result"
    },
    {
     "name": "stdout",
     "output_type": "stream",
     "text": [
      "Over 2000 customers are undergraduates.\n",
      "There are 3 levels of education of customers in our dataset.\n",
      "There are 2096 undergraduates,1403 graduates and      \n",
      "1501 customers with advanced education or that are professionals.\n"
     ]
    },
    {
     "data": {
      "image/png": "[encoded data removed]",
      "text/plain": [
       "<Figure size 432x288 with 1 Axes>"
      ]
     },
     "metadata": {
      "needs_background": "light"
     },
     "output_type": "display_data"
    }
   ],
   "source": [
    "sns.countplot(ploan.Education)\n",
    "newline = '\\n'\n",
    "\n",
    "print(f'Over 2000 customers are undergraduates.')\n",
    "print(f'There are {ploan.Education.nunique()} levels of education of customers in our dataset.')\n",
    "edu = [i for i in ploan.Education.value_counts()]\n",
    "print(f'There are {edu[0]} undergraduates,{edu[2]} graduates and\\\n",
    "      {newline}{edu[1]} customers with advanced education or that are professionals.')\n"
   ]
  },
  {
   "cell_type": "code",
   "execution_count": 65,
   "metadata": {},
   "outputs": [
    {
     "data": {
      "text/plain": [
       "<matplotlib.axes._subplots.AxesSubplot at 0x1dce9d4cf88>"
      ]
     },
     "execution_count": 65,
     "metadata": {},
     "output_type": "execute_result"
    },
    {
     "name": "stdout",
     "output_type": "stream",
     "text": [
      "Undergraduates have more credit cards than graduates or professionals.\n"
     ]
    },
    {
     "data": {
      "image/png": "[encoded data removed]",
      "text/plain": [
       "<Figure size 432x288 with 1 Axes>"
      ]
     },
     "metadata": {
      "needs_background": "light"
     },
     "output_type": "display_data"
    }
   ],
   "source": [
    "sns.countplot(ploan.Education,hue=ploan.CreditCard)\n",
    "\n",
    "print('Undergraduates have more credit cards than graduates or professionals.')"
   ]
  },
  {
   "cell_type": "code",
   "execution_count": 66,
   "metadata": {},
   "outputs": [
    {
     "data": {
      "text/plain": [
       "<matplotlib.axes._subplots.AxesSubplot at 0x1dce9dc3888>"
      ]
     },
     "execution_count": 66,
     "metadata": {},
     "output_type": "execute_result"
    },
    {
     "name": "stdout",
     "output_type": "stream",
     "text": [
      "Undergradrates spend more on credit cards than graduates or professionals.\n"
     ]
    },
    {
     "data": {
      "image/png": "[encoded data removed]",
      "text/plain": [
       "<Figure size 432x288 with 1 Axes>"
      ]
     },
     "metadata": {
      "needs_background": "light"
     },
     "output_type": "display_data"
    }
   ],
   "source": [
    "sns.countplot(ploan.Education,hue=cmask)\n",
    "#cmask shows credit card spending of zero dollars\n",
    "print('Undergradrates spend more on credit cards than graduates or professionals.')"
   ]
  },
  {
   "cell_type": "code",
   "execution_count": 67,
   "metadata": {
    "scrolled": true
   },
   "outputs": [
    {
     "data": {
      "text/plain": [
       "<matplotlib.axes._subplots.AxesSubplot at 0x1dce9e26d08>"
      ]
     },
     "execution_count": 67,
     "metadata": {},
     "output_type": "execute_result"
    },
    {
     "name": "stdout",
     "output_type": "stream",
     "text": [
      "There are 3462 people with zero mortgage.\n",
      "Mortgage distribution has a high positive skew of  2.10.\n",
      "There are 347 unique mortgage costs in the distribution.\n"
     ]
    },
    {
     "data": {
      "image/png": "[encoded data removed]",
      "text/plain": [
       "<Figure size 432x288 with 1 Axes>"
      ]
     },
     "metadata": {
      "needs_background": "light"
     },
     "output_type": "display_data"
    }
   ],
   "source": [
    "sns.distplot(ploan.Mortgage)\n",
    "\n",
    "mmask = ploan.Mortgage == 0\n",
    "print(f'There are {ploan.Mortgage[mmask].value_counts().sum()} people with zero mortgage.')\n",
    "print(f'Mortgage distribution has a high positive skew of {sp.stats.skew(ploan.Mortgage): .2f}.')\n",
    "print(f'There are {ploan.Mortgage.nunique()} unique mortgage costs in the distribution.')"
   ]
  },
  {
   "cell_type": "code",
   "execution_count": 68,
   "metadata": {},
   "outputs": [
    {
     "data": {
      "text/plain": [
       "<matplotlib.axes._subplots.AxesSubplot at 0x1dce9dc3ac8>"
      ]
     },
     "execution_count": 68,
     "metadata": {},
     "output_type": "execute_result"
    },
    {
     "name": "stdout",
     "output_type": "stream",
     "text": [
      "There are 2 categories of Personal Loan variables. The customer either accepted or did not accept the loan.\n",
      "480 people accepted the personal loan offered from the last campaign, while 4520 did not.\n"
     ]
    },
    {
     "data": {
      "image/png": "[encoded data removed]",
      "text/plain": [
       "<Figure size 432x288 with 1 Axes>"
      ]
     },
     "metadata": {
      "needs_background": "light"
     },
     "output_type": "display_data"
    }
   ],
   "source": [
    "sns.countplot(ploan['Personal Loan'])\n",
    "newline = '\\n'\n",
    "p_unique = ploan['Personal Loan'].nunique()\n",
    "print(f'There are {p_unique} categories of Personal Loan variables. The customer either accepted or did not accept the loan.')\n",
    "l = [i for i in ploan['Personal Loan'].value_counts()]\n",
    "print(f'{l[1]} people accepted the personal loan offered from the last campaign, while {l[0]} did not.')"
   ]
  },
  {
   "cell_type": "code",
   "execution_count": 69,
   "metadata": {
    "scrolled": true
   },
   "outputs": [
    {
     "data": {
      "text/plain": [
       "<matplotlib.axes._subplots.AxesSubplot at 0x1dce9f5f6c8>"
      ]
     },
     "execution_count": 69,
     "metadata": {},
     "output_type": "execute_result"
    },
    {
     "name": "stdout",
     "output_type": "stream",
     "text": [
      "Professionals or customers with advanced education took more personal loans in the last campaign.\n"
     ]
    },
    {
     "data": {
      "image/png": "[encoded data removed]",
      "text/plain": [
       "<Figure size 432x288 with 1 Axes>"
      ]
     },
     "metadata": {
      "needs_background": "light"
     },
     "output_type": "display_data"
    }
   ],
   "source": [
    "sns.countplot(ploan.Education,hue=ploan['Personal Loan'])\n",
    "print('Professionals or customers with advanced education took more personal loans in the last campaign.')"
   ]
  },
  {
   "cell_type": "code",
   "execution_count": 70,
   "metadata": {},
   "outputs": [
    {
     "data": {
      "text/plain": [
       "<matplotlib.axes._subplots.AxesSubplot at 0x1dceaf96308>"
      ]
     },
     "execution_count": 70,
     "metadata": {},
     "output_type": "execute_result"
    },
    {
     "name": "stdout",
     "output_type": "stream",
     "text": [
      "Families of 3 and 4 took more personal loans in the last campaign.\n"
     ]
    },
    {
     "data": {
      "image/png": "[encoded data removed]",
      "text/plain": [
       "<Figure size 432x288 with 1 Axes>"
      ]
     },
     "metadata": {
      "needs_background": "light"
     },
     "output_type": "display_data"
    }
   ],
   "source": [
    "sns.countplot(ploan.Family,hue=ploan['Personal Loan'])\n",
    "print('Families of 3 and 4 took more personal loans in the last campaign.')"
   ]
  },
  {
   "cell_type": "code",
   "execution_count": 71,
   "metadata": {
    "scrolled": true
   },
   "outputs": [
    {
     "data": {
      "text/plain": [
       "<matplotlib.axes._subplots.AxesSubplot at 0x1dceb00d108>"
      ]
     },
     "execution_count": 71,
     "metadata": {},
     "output_type": "execute_result"
    },
    {
     "name": "stdout",
     "output_type": "stream",
     "text": [
      "Customers have 2 choices to make about having a securities accounts - yes or no.\n",
      "4478 have no Securities Account, while 522 have a Securities Account\n"
     ]
    },
    {
     "data": {
      "image/png": "[encoded data removed]",
      "text/plain": [
       "<Figure size 432x288 with 1 Axes>"
      ]
     },
     "metadata": {
      "needs_background": "light"
     },
     "output_type": "display_data"
    }
   ],
   "source": [
    "sns.countplot(ploan['Securities Account'])\n",
    "newline = '\\n'\n",
    "sec_unique= ploan['Securities Account'].nunique()\n",
    "\n",
    "print(f'Customers have {sec_unique} choices to make about having a securities accounts - yes or no.')\n",
    "sec = [i for i in ploan['Securities Account'].value_counts()]\n",
    "print(f'{sec[0]} have no Securities Account, while {sec[1]} have a Securities Account')"
   ]
  },
  {
   "cell_type": "code",
   "execution_count": 72,
   "metadata": {},
   "outputs": [
    {
     "data": {
      "text/plain": [
       "<matplotlib.axes._subplots.AxesSubplot at 0x1dceb058ac8>"
      ]
     },
     "execution_count": 72,
     "metadata": {},
     "output_type": "execute_result"
    },
    {
     "name": "stdout",
     "output_type": "stream",
     "text": [
      "60 customers out of 522 customers with a Securities Account took a personal loan from the last campaign.\n",
      "420 customers without a Securities Account took a personal loan from the last campaign.\n"
     ]
    },
    {
     "data": {
      "image/png": "[encoded data removed]",
      "text/plain": [
       "<Figure size 432x288 with 1 Axes>"
      ]
     },
     "metadata": {
      "needs_background": "light"
     },
     "output_type": "display_data"
    }
   ],
   "source": [
    "sns.countplot(ploan['Securities Account'], hue = ploan['Personal Loan'])\n",
    "sAcc = ploan['Securities Account'][ploan['Securities Account']== 1].sum()\n",
    "sLoan = ploan['Securities Account'][ploan['Personal Loan']==1].sum()\n",
    "nsAcc = ploan['Personal Loan'][ploan['Securities Account']== 0].sum()\n",
    "\n",
    "print(f'{sLoan} customers out of {sAcc} customers with a Securities Account took a personal loan from the last campaign.')\n",
    "print(f'{nsAcc} customers without a Securities Account took a personal loan from the last campaign.')"
   ]
  },
  {
   "cell_type": "code",
   "execution_count": 73,
   "metadata": {},
   "outputs": [
    {
     "data": {
      "text/plain": [
       "<matplotlib.axes._subplots.AxesSubplot at 0x1dceb0b6488>"
      ]
     },
     "execution_count": 73,
     "metadata": {},
     "output_type": "execute_result"
    },
    {
     "name": "stdout",
     "output_type": "stream",
     "text": [
      "302 customers have a certificate of deposit account, while 4698 do not.\n"
     ]
    },
    {
     "data": {
      "image/png": "[encoded data removed]",
      "text/plain": [
       "<Figure size 432x288 with 1 Axes>"
      ]
     },
     "metadata": {
      "needs_background": "light"
     },
     "output_type": "display_data"
    }
   ],
   "source": [
    "sns.countplot(ploan['CD Account'])\n",
    "cda =[i for i in ploan['CD Account'].value_counts()]\n",
    "print(f'{cda[1]} customers have a certificate of deposit account, while {cda[0]} do not.')"
   ]
  },
  {
   "cell_type": "code",
   "execution_count": 74,
   "metadata": {},
   "outputs": [
    {
     "data": {
      "text/plain": [
       "<matplotlib.axes._subplots.AxesSubplot at 0x1dceb110e48>"
      ]
     },
     "execution_count": 74,
     "metadata": {},
     "output_type": "execute_result"
    },
    {
     "name": "stdout",
     "output_type": "stream",
     "text": [
      "140 customers out of 302 customers with a CD Account took a personal loan from the last campaign.\n",
      "340 customers without a CD Account took a personal loan from the last campaign.\n"
     ]
    },
    {
     "data": {
      "image/png": "[encoded data removed]",
      "text/plain": [
       "<Figure size 432x288 with 1 Axes>"
      ]
     },
     "metadata": {
      "needs_background": "light"
     },
     "output_type": "display_data"
    }
   ],
   "source": [
    "sns.countplot(ploan['CD Account'], hue=ploan['Personal Loan'])\n",
    "cAcc = ploan['CD Account'][ploan['CD Account']== 1].sum()\n",
    "cLoan = ploan['CD Account'][ploan['Personal Loan']==1].sum()\n",
    "ncAcc = ploan['Personal Loan'][ploan['CD Account']== 0].sum()\n",
    "\n",
    "print(f'{cLoan} customers out of {cAcc} customers with a CD Account took a personal loan from the last campaign.')\n",
    "print(f'{ncAcc} customers without a CD Account took a personal loan from the last campaign.')"
   ]
  },
  {
   "cell_type": "code",
   "execution_count": 75,
   "metadata": {},
   "outputs": [
    {
     "data": {
      "text/plain": [
       "<matplotlib.axes._subplots.AxesSubplot at 0x1dceb15d388>"
      ]
     },
     "execution_count": 75,
     "metadata": {},
     "output_type": "execute_result"
    },
    {
     "name": "stdout",
     "output_type": "stream",
     "text": [
      "2984 customers have an online account, while 2016 do not.\n"
     ]
    },
    {
     "data": {
      "image/png": "[encoded data removed]",
      "text/plain": [
       "<Figure size 432x288 with 1 Axes>"
      ]
     },
     "metadata": {
      "needs_background": "light"
     },
     "output_type": "display_data"
    }
   ],
   "source": [
    "sns.countplot(ploan.Online)\n",
    "onl = [i for i in ploan.Online.value_counts()]\n",
    "\n",
    "print(f'{onl[0]} customers have an online account, while {onl[1]} do not.')"
   ]
  },
  {
   "cell_type": "code",
   "execution_count": 76,
   "metadata": {},
   "outputs": [
    {
     "data": {
      "text/plain": [
       "<matplotlib.axes._subplots.AxesSubplot at 0x1dceb1c84c8>"
      ]
     },
     "execution_count": 76,
     "metadata": {},
     "output_type": "execute_result"
    },
    {
     "name": "stdout",
     "output_type": "stream",
     "text": [
      "291 customers out of 2984 customers with an Online Account took a personal loan from the last campaign.\n",
      "189 customers without an Online Account took a personal loan from the last campaign.\n"
     ]
    },
    {
     "data": {
      "image/png": "[encoded data removed]",
      "text/plain": [
       "<Figure size 432x288 with 1 Axes>"
      ]
     },
     "metadata": {
      "needs_background": "light"
     },
     "output_type": "display_data"
    }
   ],
   "source": [
    "sns.countplot(ploan.Online, hue = ploan['Personal Loan'])\n",
    "\n",
    "oAcc = ploan.Online[ploan.Online== 1].sum()\n",
    "oLoan = ploan.Online[ploan['Personal Loan']==1].sum()\n",
    "noAcc = ploan['Personal Loan'][ploan.Online== 0].sum()\n",
    "\n",
    "print(f'{oLoan} customers out of {oAcc} customers with an Online Account took a personal loan from the last campaign.')\n",
    "print(f'{noAcc} customers without an Online Account took a personal loan from the last campaign.')"
   ]
  },
  {
   "cell_type": "code",
   "execution_count": 77,
   "metadata": {
    "scrolled": true
   },
   "outputs": [
    {
     "data": {
      "text/plain": [
       "<matplotlib.axes._subplots.AxesSubplot at 0x1dceb21a4c8>"
      ]
     },
     "execution_count": 77,
     "metadata": {},
     "output_type": "execute_result"
    },
    {
     "name": "stdout",
     "output_type": "stream",
     "text": [
      "1470 customers have credit cards, while 3530 do not.\n"
     ]
    },
    {
     "data": {
      "image/png": "[encoded data removed]",
      "text/plain": [
       "<Figure size 432x288 with 1 Axes>"
      ]
     },
     "metadata": {
      "needs_background": "light"
     },
     "output_type": "display_data"
    }
   ],
   "source": [
    "sns.countplot(ploan.CreditCard)\n",
    "cr = [i for i in ploan.CreditCard.value_counts()]\n",
    "\n",
    "print(f'{cr[1]} customers have credit cards, while {cr[0]} do not.')"
   ]
  },
  {
   "cell_type": "code",
   "execution_count": 78,
   "metadata": {},
   "outputs": [
    {
     "data": {
      "text/plain": [
       "<matplotlib.axes._subplots.AxesSubplot at 0x1dceb27fe88>"
      ]
     },
     "execution_count": 78,
     "metadata": {},
     "output_type": "execute_result"
    },
    {
     "name": "stdout",
     "output_type": "stream",
     "text": [
      "143 customers out of 1470 customers with a Credit Card took a personal loan from the last campaign.\n",
      "337 customers without a Credit Card took a personal loan from the last campaign.\n"
     ]
    },
    {
     "data": {
      "image/png": "[encoded data removed]",
      "text/plain": [
       "<Figure size 432x288 with 1 Axes>"
      ]
     },
     "metadata": {
      "needs_background": "light"
     },
     "output_type": "display_data"
    }
   ],
   "source": [
    "sns.countplot(ploan.CreditCard, hue = ploan['Personal Loan'])\n",
    "\n",
    "crAcc = ploan.CreditCard[ploan.CreditCard== 1].sum()\n",
    "crLoan = ploan.CreditCard[ploan['Personal Loan']==1].sum()\n",
    "ncrAcc = ploan['Personal Loan'][ploan.CreditCard== 0].sum()\n",
    "\n",
    "print(f'{crLoan} customers out of {crAcc} customers with a Credit Card took a personal loan from the last campaign.')\n",
    "print(f'{ncrAcc} customers without a Credit Card took a personal loan from the last campaign.')"
   ]
  },
  {
   "cell_type": "code",
   "execution_count": 79,
   "metadata": {
    "scrolled": true
   },
   "outputs": [
    {
     "data": {
      "text/plain": [
       "Index(['ID', 'Age', 'Experience', 'Income', 'ZIP Code', 'Family', 'CCAvg',\n",
       "       'Education', 'Mortgage', 'Personal Loan', 'Securities Account',\n",
       "       'CD Account', 'Online', 'CreditCard'],\n",
       "      dtype='object')"
      ]
     },
     "execution_count": 79,
     "metadata": {},
     "output_type": "execute_result"
    }
   ],
   "source": [
    "ploan.columns"
   ]
  },
  {
   "cell_type": "code",
   "execution_count": 80,
   "metadata": {},
   "outputs": [],
   "source": [
    "#Get data model ready\n",
    "ploan.drop(['ID', 'ZIP Code'], axis = 1, inplace = True)"
   ]
  },
  {
   "cell_type": "code",
   "execution_count": 81,
   "metadata": {},
   "outputs": [
    {
     "data": {
      "text/html": [
       "<div>\n",
       "<style scoped>\n",
       "    .dataframe tbody tr th:only-of-type {\n",
       "        vertical-align: middle;\n",
       "    }\n",
       "\n",
       "    .dataframe tbody tr th {\n",
       "        vertical-align: top;\n",
       "    }\n",
       "\n",
       "    .dataframe thead th {\n",
       "        text-align: right;\n",
       "    }\n",
       "</style>\n",
       "<table border=\"1\" class=\"dataframe\">\n",
       "  <thead>\n",
       "    <tr style=\"text-align: right;\">\n",
       "      <th></th>\n",
       "      <th>Age</th>\n",
       "      <th>Experience</th>\n",
       "      <th>Income</th>\n",
       "      <th>Family</th>\n",
       "      <th>CCAvg</th>\n",
       "      <th>Education</th>\n",
       "      <th>Mortgage</th>\n",
       "      <th>Personal Loan</th>\n",
       "      <th>Securities Account</th>\n",
       "      <th>CD Account</th>\n",
       "      <th>Online</th>\n",
       "      <th>CreditCard</th>\n",
       "    </tr>\n",
       "  </thead>\n",
       "  <tbody>\n",
       "    <tr>\n",
       "      <th>0</th>\n",
       "      <td>25</td>\n",
       "      <td>1</td>\n",
       "      <td>49</td>\n",
       "      <td>4</td>\n",
       "      <td>1.6</td>\n",
       "      <td>1</td>\n",
       "      <td>0</td>\n",
       "      <td>0</td>\n",
       "      <td>1</td>\n",
       "      <td>0</td>\n",
       "      <td>0</td>\n",
       "      <td>0</td>\n",
       "    </tr>\n",
       "    <tr>\n",
       "      <th>1</th>\n",
       "      <td>45</td>\n",
       "      <td>19</td>\n",
       "      <td>34</td>\n",
       "      <td>3</td>\n",
       "      <td>1.5</td>\n",
       "      <td>1</td>\n",
       "      <td>0</td>\n",
       "      <td>0</td>\n",
       "      <td>1</td>\n",
       "      <td>0</td>\n",
       "      <td>0</td>\n",
       "      <td>0</td>\n",
       "    </tr>\n",
       "    <tr>\n",
       "      <th>2</th>\n",
       "      <td>39</td>\n",
       "      <td>15</td>\n",
       "      <td>11</td>\n",
       "      <td>1</td>\n",
       "      <td>1.0</td>\n",
       "      <td>1</td>\n",
       "      <td>0</td>\n",
       "      <td>0</td>\n",
       "      <td>0</td>\n",
       "      <td>0</td>\n",
       "      <td>0</td>\n",
       "      <td>0</td>\n",
       "    </tr>\n",
       "    <tr>\n",
       "      <th>3</th>\n",
       "      <td>35</td>\n",
       "      <td>9</td>\n",
       "      <td>100</td>\n",
       "      <td>1</td>\n",
       "      <td>2.7</td>\n",
       "      <td>2</td>\n",
       "      <td>0</td>\n",
       "      <td>0</td>\n",
       "      <td>0</td>\n",
       "      <td>0</td>\n",
       "      <td>0</td>\n",
       "      <td>0</td>\n",
       "    </tr>\n",
       "    <tr>\n",
       "      <th>4</th>\n",
       "      <td>35</td>\n",
       "      <td>8</td>\n",
       "      <td>45</td>\n",
       "      <td>4</td>\n",
       "      <td>1.0</td>\n",
       "      <td>2</td>\n",
       "      <td>0</td>\n",
       "      <td>0</td>\n",
       "      <td>0</td>\n",
       "      <td>0</td>\n",
       "      <td>0</td>\n",
       "      <td>1</td>\n",
       "    </tr>\n",
       "  </tbody>\n",
       "</table>\n",
       "</div>"
      ],
      "text/plain": [
       "   Age  Experience  Income  Family  CCAvg  Education  Mortgage  Personal Loan  \\\n",
       "0   25           1      49       4    1.6          1         0              0   \n",
       "1   45          19      34       3    1.5          1         0              0   \n",
       "2   39          15      11       1    1.0          1         0              0   \n",
       "3   35           9     100       1    2.7          2         0              0   \n",
       "4   35           8      45       4    1.0          2         0              0   \n",
       "\n",
       "   Securities Account  CD Account  Online  CreditCard  \n",
       "0                   1           0       0           0  \n",
       "1                   1           0       0           0  \n",
       "2                   0           0       0           0  \n",
       "3                   0           0       0           0  \n",
       "4                   0           0       0           1  "
      ]
     },
     "execution_count": 81,
     "metadata": {},
     "output_type": "execute_result"
    }
   ],
   "source": [
    "ploan.head()"
   ]
  },
  {
   "cell_type": "code",
   "execution_count": 82,
   "metadata": {},
   "outputs": [
    {
     "name": "stderr",
     "output_type": "stream",
     "text": [
      "C:\\ProgramData\\Anaconda3\\lib\\site-packages\\ipykernel_launcher.py:7: SettingWithCopyWarning: \n",
      "A value is trying to be set on a copy of a slice from a DataFrame\n",
      "\n",
      "See the caveats in the documentation: http://pandas.pydata.org/pandas-docs/stable/user_guide/indexing.html#returning-a-view-versus-a-copy\n",
      "  import sys\n"
     ]
    },
    {
     "data": {
      "text/plain": [
       "count    5000.000000\n",
       "mean       20.327600\n",
       "std        11.253035\n",
       "min         0.000000\n",
       "25%        11.000000\n",
       "50%        20.000000\n",
       "75%        30.000000\n",
       "max        43.000000\n",
       "Name: Experience, dtype: float64"
      ]
     },
     "execution_count": 82,
     "metadata": {},
     "output_type": "execute_result"
    }
   ],
   "source": [
    "# Incorrect imputation in Experience column\n",
    "wr_impE3 = ploan.Experience== -3\n",
    "wr_impE2 = ploan.Experience== -2\n",
    "wr_impE1 = ploan.Experience== -1\n",
    "\n",
    "#Replace the incorrect imputation with the median\n",
    "ploan.Experience[wr_impE3] = ploan.Experience.median()\n",
    "ploan.Experience[wr_impE2] = ploan.Experience.median()\n",
    "ploan.Experience[wr_impE1] = ploan.Experience.median()\n",
    "\n",
    "ploan.Experience.describe()"
   ]
  },
  {
   "cell_type": "code",
   "execution_count": 83,
   "metadata": {},
   "outputs": [
    {
     "data": {
      "text/plain": [
       "2.103371065804789"
      ]
     },
     "execution_count": 83,
     "metadata": {},
     "output_type": "execute_result"
    }
   ],
   "source": [
    "sp.stats.skew(ploan.Mortgage)"
   ]
  },
  {
   "cell_type": "code",
   "execution_count": 84,
   "metadata": {},
   "outputs": [
    {
     "data": {
      "text/plain": [
       "0      0.6924\n",
       "98     0.0034\n",
       "103    0.0032\n",
       "119    0.0032\n",
       "83     0.0032\n",
       "        ...  \n",
       "541    0.0002\n",
       "509    0.0002\n",
       "505    0.0002\n",
       "485    0.0002\n",
       "577    0.0002\n",
       "Name: Mortgage, Length: 347, dtype: float64"
      ]
     },
     "execution_count": 84,
     "metadata": {},
     "output_type": "execute_result"
    }
   ],
   "source": [
    "ploan.Mortgage.value_counts(normalize=True)"
   ]
  },
  {
   "cell_type": "code",
   "execution_count": 85,
   "metadata": {},
   "outputs": [
    {
     "name": "stdout",
     "output_type": "stream",
     "text": [
      "We will drop the Mortgage column because it is highly skewed\n"
     ]
    },
    {
     "data": {
      "text/html": [
       "<div>\n",
       "<style scoped>\n",
       "    .dataframe tbody tr th:only-of-type {\n",
       "        vertical-align: middle;\n",
       "    }\n",
       "\n",
       "    .dataframe tbody tr th {\n",
       "        vertical-align: top;\n",
       "    }\n",
       "\n",
       "    .dataframe thead th {\n",
       "        text-align: right;\n",
       "    }\n",
       "</style>\n",
       "<table border=\"1\" class=\"dataframe\">\n",
       "  <thead>\n",
       "    <tr style=\"text-align: right;\">\n",
       "      <th></th>\n",
       "      <th>Age</th>\n",
       "      <th>Experience</th>\n",
       "      <th>Income</th>\n",
       "      <th>Family</th>\n",
       "      <th>CCAvg</th>\n",
       "      <th>Education</th>\n",
       "      <th>Personal Loan</th>\n",
       "      <th>Securities Account</th>\n",
       "      <th>CD Account</th>\n",
       "      <th>Online</th>\n",
       "      <th>CreditCard</th>\n",
       "    </tr>\n",
       "  </thead>\n",
       "  <tbody>\n",
       "    <tr>\n",
       "      <th>0</th>\n",
       "      <td>25</td>\n",
       "      <td>1</td>\n",
       "      <td>49</td>\n",
       "      <td>4</td>\n",
       "      <td>1.6</td>\n",
       "      <td>1</td>\n",
       "      <td>0</td>\n",
       "      <td>1</td>\n",
       "      <td>0</td>\n",
       "      <td>0</td>\n",
       "      <td>0</td>\n",
       "    </tr>\n",
       "    <tr>\n",
       "      <th>1</th>\n",
       "      <td>45</td>\n",
       "      <td>19</td>\n",
       "      <td>34</td>\n",
       "      <td>3</td>\n",
       "      <td>1.5</td>\n",
       "      <td>1</td>\n",
       "      <td>0</td>\n",
       "      <td>1</td>\n",
       "      <td>0</td>\n",
       "      <td>0</td>\n",
       "      <td>0</td>\n",
       "    </tr>\n",
       "    <tr>\n",
       "      <th>2</th>\n",
       "      <td>39</td>\n",
       "      <td>15</td>\n",
       "      <td>11</td>\n",
       "      <td>1</td>\n",
       "      <td>1.0</td>\n",
       "      <td>1</td>\n",
       "      <td>0</td>\n",
       "      <td>0</td>\n",
       "      <td>0</td>\n",
       "      <td>0</td>\n",
       "      <td>0</td>\n",
       "    </tr>\n",
       "    <tr>\n",
       "      <th>3</th>\n",
       "      <td>35</td>\n",
       "      <td>9</td>\n",
       "      <td>100</td>\n",
       "      <td>1</td>\n",
       "      <td>2.7</td>\n",
       "      <td>2</td>\n",
       "      <td>0</td>\n",
       "      <td>0</td>\n",
       "      <td>0</td>\n",
       "      <td>0</td>\n",
       "      <td>0</td>\n",
       "    </tr>\n",
       "    <tr>\n",
       "      <th>4</th>\n",
       "      <td>35</td>\n",
       "      <td>8</td>\n",
       "      <td>45</td>\n",
       "      <td>4</td>\n",
       "      <td>1.0</td>\n",
       "      <td>2</td>\n",
       "      <td>0</td>\n",
       "      <td>0</td>\n",
       "      <td>0</td>\n",
       "      <td>0</td>\n",
       "      <td>1</td>\n",
       "    </tr>\n",
       "  </tbody>\n",
       "</table>\n",
       "</div>"
      ],
      "text/plain": [
       "   Age  Experience  Income  Family  CCAvg  Education  Personal Loan  \\\n",
       "0   25           1      49       4    1.6          1              0   \n",
       "1   45          19      34       3    1.5          1              0   \n",
       "2   39          15      11       1    1.0          1              0   \n",
       "3   35           9     100       1    2.7          2              0   \n",
       "4   35           8      45       4    1.0          2              0   \n",
       "\n",
       "   Securities Account  CD Account  Online  CreditCard  \n",
       "0                   1           0       0           0  \n",
       "1                   1           0       0           0  \n",
       "2                   0           0       0           0  \n",
       "3                   0           0       0           0  \n",
       "4                   0           0       0           1  "
      ]
     },
     "execution_count": 85,
     "metadata": {},
     "output_type": "execute_result"
    }
   ],
   "source": [
    "print('We will drop the Mortgage column because it is highly skewed' )\n",
    "ploan.drop('Mortgage', axis = 1, inplace = True)\n",
    "ploan.head()"
   ]
  },
  {
   "cell_type": "code",
   "execution_count": 86,
   "metadata": {},
   "outputs": [
    {
     "data": {
      "text/plain": [
       "1.5984433366678663"
      ]
     },
     "execution_count": 86,
     "metadata": {},
     "output_type": "execute_result"
    }
   ],
   "source": [
    "ploan.CCAvg.skew()"
   ]
  },
  {
   "cell_type": "code",
   "execution_count": 87,
   "metadata": {},
   "outputs": [
    {
     "data": {
      "text/plain": [
       "0.30    0.0482\n",
       "1.00    0.0462\n",
       "0.20    0.0408\n",
       "2.00    0.0376\n",
       "0.80    0.0374\n",
       "         ...  \n",
       "2.75    0.0002\n",
       "8.20    0.0002\n",
       "9.30    0.0002\n",
       "3.67    0.0002\n",
       "5.33    0.0002\n",
       "Name: CCAvg, Length: 108, dtype: float64"
      ]
     },
     "execution_count": 87,
     "metadata": {},
     "output_type": "execute_result"
    }
   ],
   "source": [
    "ploan.CCAvg.value_counts(normalize=True)"
   ]
  },
  {
   "cell_type": "code",
   "execution_count": null,
   "metadata": {},
   "outputs": [],
   "source": []
  },
  {
   "cell_type": "code",
   "execution_count": 89,
   "metadata": {
    "scrolled": true
   },
   "outputs": [
    {
     "name": "stdout",
     "output_type": "stream",
     "text": [
      "We will drop the CCAvg column since it is highly skewed.\n"
     ]
    },
    {
     "ename": "KeyError",
     "evalue": "\"['CCAvg'] not found in axis\"",
     "output_type": "error",
     "traceback": [
      "\u001b[1;31m---------------------------------------------------------------------------\u001b[0m",
      "\u001b[1;31mKeyError\u001b[0m                                  Traceback (most recent call last)",
      "\u001b[1;32m<ipython-input-89-4fe761cb1d1a>\u001b[0m in \u001b[0;36m<module>\u001b[1;34m\u001b[0m\n\u001b[0;32m      1\u001b[0m \u001b[0mprint\u001b[0m\u001b[1;33m(\u001b[0m\u001b[1;34m'We will drop the CCAvg column since it is highly skewed.'\u001b[0m\u001b[1;33m)\u001b[0m\u001b[1;33m\u001b[0m\u001b[1;33m\u001b[0m\u001b[0m\n\u001b[1;32m----> 2\u001b[1;33m \u001b[0mploan\u001b[0m\u001b[1;33m.\u001b[0m\u001b[0mdrop\u001b[0m\u001b[1;33m(\u001b[0m\u001b[1;34m'CCAvg'\u001b[0m\u001b[1;33m,\u001b[0m \u001b[0maxis\u001b[0m \u001b[1;33m=\u001b[0m \u001b[1;36m1\u001b[0m\u001b[1;33m,\u001b[0m \u001b[0minplace\u001b[0m \u001b[1;33m=\u001b[0m \u001b[1;32mTrue\u001b[0m\u001b[1;33m)\u001b[0m\u001b[1;33m\u001b[0m\u001b[1;33m\u001b[0m\u001b[0m\n\u001b[0m\u001b[0;32m      3\u001b[0m \u001b[0mploan\u001b[0m\u001b[1;33m.\u001b[0m\u001b[0mhead\u001b[0m\u001b[1;33m(\u001b[0m\u001b[1;33m)\u001b[0m\u001b[1;33m\u001b[0m\u001b[1;33m\u001b[0m\u001b[0m\n",
      "\u001b[1;32m~\\AppData\\Roaming\\Python\\Python37\\site-packages\\pandas\\core\\frame.py\u001b[0m in \u001b[0;36mdrop\u001b[1;34m(self, labels, axis, index, columns, level, inplace, errors)\u001b[0m\n\u001b[0;32m   4115\u001b[0m             \u001b[0mlevel\u001b[0m\u001b[1;33m=\u001b[0m\u001b[0mlevel\u001b[0m\u001b[1;33m,\u001b[0m\u001b[1;33m\u001b[0m\u001b[1;33m\u001b[0m\u001b[0m\n\u001b[0;32m   4116\u001b[0m             \u001b[0minplace\u001b[0m\u001b[1;33m=\u001b[0m\u001b[0minplace\u001b[0m\u001b[1;33m,\u001b[0m\u001b[1;33m\u001b[0m\u001b[1;33m\u001b[0m\u001b[0m\n\u001b[1;32m-> 4117\u001b[1;33m             \u001b[0merrors\u001b[0m\u001b[1;33m=\u001b[0m\u001b[0merrors\u001b[0m\u001b[1;33m,\u001b[0m\u001b[1;33m\u001b[0m\u001b[1;33m\u001b[0m\u001b[0m\n\u001b[0m\u001b[0;32m   4118\u001b[0m         )\n\u001b[0;32m   4119\u001b[0m \u001b[1;33m\u001b[0m\u001b[0m\n",
      "\u001b[1;32m~\\AppData\\Roaming\\Python\\Python37\\site-packages\\pandas\\core\\generic.py\u001b[0m in \u001b[0;36mdrop\u001b[1;34m(self, labels, axis, index, columns, level, inplace, errors)\u001b[0m\n\u001b[0;32m   3912\u001b[0m         \u001b[1;32mfor\u001b[0m \u001b[0maxis\u001b[0m\u001b[1;33m,\u001b[0m \u001b[0mlabels\u001b[0m \u001b[1;32min\u001b[0m \u001b[0maxes\u001b[0m\u001b[1;33m.\u001b[0m\u001b[0mitems\u001b[0m\u001b[1;33m(\u001b[0m\u001b[1;33m)\u001b[0m\u001b[1;33m:\u001b[0m\u001b[1;33m\u001b[0m\u001b[1;33m\u001b[0m\u001b[0m\n\u001b[0;32m   3913\u001b[0m             \u001b[1;32mif\u001b[0m \u001b[0mlabels\u001b[0m \u001b[1;32mis\u001b[0m \u001b[1;32mnot\u001b[0m \u001b[1;32mNone\u001b[0m\u001b[1;33m:\u001b[0m\u001b[1;33m\u001b[0m\u001b[1;33m\u001b[0m\u001b[0m\n\u001b[1;32m-> 3914\u001b[1;33m                 \u001b[0mobj\u001b[0m \u001b[1;33m=\u001b[0m \u001b[0mobj\u001b[0m\u001b[1;33m.\u001b[0m\u001b[0m_drop_axis\u001b[0m\u001b[1;33m(\u001b[0m\u001b[0mlabels\u001b[0m\u001b[1;33m,\u001b[0m \u001b[0maxis\u001b[0m\u001b[1;33m,\u001b[0m \u001b[0mlevel\u001b[0m\u001b[1;33m=\u001b[0m\u001b[0mlevel\u001b[0m\u001b[1;33m,\u001b[0m \u001b[0merrors\u001b[0m\u001b[1;33m=\u001b[0m\u001b[0merrors\u001b[0m\u001b[1;33m)\u001b[0m\u001b[1;33m\u001b[0m\u001b[1;33m\u001b[0m\u001b[0m\n\u001b[0m\u001b[0;32m   3915\u001b[0m \u001b[1;33m\u001b[0m\u001b[0m\n\u001b[0;32m   3916\u001b[0m         \u001b[1;32mif\u001b[0m \u001b[0minplace\u001b[0m\u001b[1;33m:\u001b[0m\u001b[1;33m\u001b[0m\u001b[1;33m\u001b[0m\u001b[0m\n",
      "\u001b[1;32m~\\AppData\\Roaming\\Python\\Python37\\site-packages\\pandas\\core\\generic.py\u001b[0m in \u001b[0;36m_drop_axis\u001b[1;34m(self, labels, axis, level, errors)\u001b[0m\n\u001b[0;32m   3944\u001b[0m                 \u001b[0mnew_axis\u001b[0m \u001b[1;33m=\u001b[0m \u001b[0maxis\u001b[0m\u001b[1;33m.\u001b[0m\u001b[0mdrop\u001b[0m\u001b[1;33m(\u001b[0m\u001b[0mlabels\u001b[0m\u001b[1;33m,\u001b[0m \u001b[0mlevel\u001b[0m\u001b[1;33m=\u001b[0m\u001b[0mlevel\u001b[0m\u001b[1;33m,\u001b[0m \u001b[0merrors\u001b[0m\u001b[1;33m=\u001b[0m\u001b[0merrors\u001b[0m\u001b[1;33m)\u001b[0m\u001b[1;33m\u001b[0m\u001b[1;33m\u001b[0m\u001b[0m\n\u001b[0;32m   3945\u001b[0m             \u001b[1;32melse\u001b[0m\u001b[1;33m:\u001b[0m\u001b[1;33m\u001b[0m\u001b[1;33m\u001b[0m\u001b[0m\n\u001b[1;32m-> 3946\u001b[1;33m                 \u001b[0mnew_axis\u001b[0m \u001b[1;33m=\u001b[0m \u001b[0maxis\u001b[0m\u001b[1;33m.\u001b[0m\u001b[0mdrop\u001b[0m\u001b[1;33m(\u001b[0m\u001b[0mlabels\u001b[0m\u001b[1;33m,\u001b[0m \u001b[0merrors\u001b[0m\u001b[1;33m=\u001b[0m\u001b[0merrors\u001b[0m\u001b[1;33m)\u001b[0m\u001b[1;33m\u001b[0m\u001b[1;33m\u001b[0m\u001b[0m\n\u001b[0m\u001b[0;32m   3947\u001b[0m             \u001b[0mresult\u001b[0m \u001b[1;33m=\u001b[0m \u001b[0mself\u001b[0m\u001b[1;33m.\u001b[0m\u001b[0mreindex\u001b[0m\u001b[1;33m(\u001b[0m\u001b[1;33m**\u001b[0m\u001b[1;33m{\u001b[0m\u001b[0maxis_name\u001b[0m\u001b[1;33m:\u001b[0m \u001b[0mnew_axis\u001b[0m\u001b[1;33m}\u001b[0m\u001b[1;33m)\u001b[0m\u001b[1;33m\u001b[0m\u001b[1;33m\u001b[0m\u001b[0m\n\u001b[0;32m   3948\u001b[0m \u001b[1;33m\u001b[0m\u001b[0m\n",
      "\u001b[1;32m~\\AppData\\Roaming\\Python\\Python37\\site-packages\\pandas\\core\\indexes\\base.py\u001b[0m in \u001b[0;36mdrop\u001b[1;34m(self, labels, errors)\u001b[0m\n\u001b[0;32m   5338\u001b[0m         \u001b[1;32mif\u001b[0m \u001b[0mmask\u001b[0m\u001b[1;33m.\u001b[0m\u001b[0many\u001b[0m\u001b[1;33m(\u001b[0m\u001b[1;33m)\u001b[0m\u001b[1;33m:\u001b[0m\u001b[1;33m\u001b[0m\u001b[1;33m\u001b[0m\u001b[0m\n\u001b[0;32m   5339\u001b[0m             \u001b[1;32mif\u001b[0m \u001b[0merrors\u001b[0m \u001b[1;33m!=\u001b[0m \u001b[1;34m\"ignore\"\u001b[0m\u001b[1;33m:\u001b[0m\u001b[1;33m\u001b[0m\u001b[1;33m\u001b[0m\u001b[0m\n\u001b[1;32m-> 5340\u001b[1;33m                 \u001b[1;32mraise\u001b[0m \u001b[0mKeyError\u001b[0m\u001b[1;33m(\u001b[0m\u001b[1;34m\"{} not found in axis\"\u001b[0m\u001b[1;33m.\u001b[0m\u001b[0mformat\u001b[0m\u001b[1;33m(\u001b[0m\u001b[0mlabels\u001b[0m\u001b[1;33m[\u001b[0m\u001b[0mmask\u001b[0m\u001b[1;33m]\u001b[0m\u001b[1;33m)\u001b[0m\u001b[1;33m)\u001b[0m\u001b[1;33m\u001b[0m\u001b[1;33m\u001b[0m\u001b[0m\n\u001b[0m\u001b[0;32m   5341\u001b[0m             \u001b[0mindexer\u001b[0m \u001b[1;33m=\u001b[0m \u001b[0mindexer\u001b[0m\u001b[1;33m[\u001b[0m\u001b[1;33m~\u001b[0m\u001b[0mmask\u001b[0m\u001b[1;33m]\u001b[0m\u001b[1;33m\u001b[0m\u001b[1;33m\u001b[0m\u001b[0m\n\u001b[0;32m   5342\u001b[0m         \u001b[1;32mreturn\u001b[0m \u001b[0mself\u001b[0m\u001b[1;33m.\u001b[0m\u001b[0mdelete\u001b[0m\u001b[1;33m(\u001b[0m\u001b[0mindexer\u001b[0m\u001b[1;33m)\u001b[0m\u001b[1;33m\u001b[0m\u001b[1;33m\u001b[0m\u001b[0m\n",
      "\u001b[1;31mKeyError\u001b[0m: \"['CCAvg'] not found in axis\""
     ]
    }
   ],
   "source": [
    "print('We will drop the CCAvg column since it is highly skewed.')\n",
    "ploan.drop('CCAvg', axis = 1, inplace = True)\n",
    "ploan.head()"
   ]
  },
  {
   "cell_type": "markdown",
   "metadata": {},
   "source": [
    "### Question 3. Split the data into training and test set in the ratio of 70:30 respectively"
   ]
  },
  {
   "cell_type": "code",
   "execution_count": 43,
   "metadata": {},
   "outputs": [],
   "source": [
    "X = ploan.drop('Personal Loan', axis = 1)\n",
    "y = ploan[['Personal Loan']]"
   ]
  },
  {
   "cell_type": "code",
   "execution_count": 44,
   "metadata": {},
   "outputs": [
    {
     "data": {
      "text/html": [
       "<div>\n",
       "<style scoped>\n",
       "    .dataframe tbody tr th:only-of-type {\n",
       "        vertical-align: middle;\n",
       "    }\n",
       "\n",
       "    .dataframe tbody tr th {\n",
       "        vertical-align: top;\n",
       "    }\n",
       "\n",
       "    .dataframe thead th {\n",
       "        text-align: right;\n",
       "    }\n",
       "</style>\n",
       "<table border=\"1\" class=\"dataframe\">\n",
       "  <thead>\n",
       "    <tr style=\"text-align: right;\">\n",
       "      <th></th>\n",
       "      <th>Age</th>\n",
       "      <th>Experience</th>\n",
       "      <th>Income</th>\n",
       "      <th>Family</th>\n",
       "      <th>Education</th>\n",
       "      <th>Online</th>\n",
       "    </tr>\n",
       "  </thead>\n",
       "  <tbody>\n",
       "    <tr>\n",
       "      <th>1334</th>\n",
       "      <td>47</td>\n",
       "      <td>22</td>\n",
       "      <td>35</td>\n",
       "      <td>2</td>\n",
       "      <td>1</td>\n",
       "      <td>1</td>\n",
       "    </tr>\n",
       "    <tr>\n",
       "      <th>4768</th>\n",
       "      <td>38</td>\n",
       "      <td>14</td>\n",
       "      <td>39</td>\n",
       "      <td>1</td>\n",
       "      <td>2</td>\n",
       "      <td>1</td>\n",
       "    </tr>\n",
       "    <tr>\n",
       "      <th>65</th>\n",
       "      <td>59</td>\n",
       "      <td>35</td>\n",
       "      <td>131</td>\n",
       "      <td>1</td>\n",
       "      <td>1</td>\n",
       "      <td>1</td>\n",
       "    </tr>\n",
       "    <tr>\n",
       "      <th>177</th>\n",
       "      <td>29</td>\n",
       "      <td>3</td>\n",
       "      <td>65</td>\n",
       "      <td>4</td>\n",
       "      <td>2</td>\n",
       "      <td>0</td>\n",
       "    </tr>\n",
       "    <tr>\n",
       "      <th>4489</th>\n",
       "      <td>39</td>\n",
       "      <td>13</td>\n",
       "      <td>21</td>\n",
       "      <td>3</td>\n",
       "      <td>2</td>\n",
       "      <td>1</td>\n",
       "    </tr>\n",
       "  </tbody>\n",
       "</table>\n",
       "</div>"
      ],
      "text/plain": [
       "      Age  Experience  Income  Family  Education  Online\n",
       "1334   47          22      35       2          1       1\n",
       "4768   38          14      39       1          2       1\n",
       "65     59          35     131       1          1       1\n",
       "177    29           3      65       4          2       0\n",
       "4489   39          13      21       3          2       1"
      ]
     },
     "execution_count": 44,
     "metadata": {},
     "output_type": "execute_result"
    }
   ],
   "source": [
    "from sklearn.model_selection import train_test_split\n",
    "\n",
    "X_train, X_test, y_train, y_test = train_test_split(X, y, test_size = 0.30, random_state = 1)\n",
    "\n",
    "# y_train_r = y_train.values.ravel()\n",
    "\n",
    "X_train.head()"
   ]
  },
  {
   "cell_type": "markdown",
   "metadata": {},
   "source": [
    "### Question 4. Use Logistic Regression model to predict the likelihood of a customer buying personal loans. Print all the metrics related for evaluating the model performance"
   ]
  },
  {
   "cell_type": "code",
   "execution_count": 92,
   "metadata": {},
   "outputs": [
    {
     "name": "stderr",
     "output_type": "stream",
     "text": [
      "C:\\ProgramData\\Anaconda3\\lib\\site-packages\\sklearn\\linear_model\\logistic.py:432: FutureWarning: Default solver will be changed to 'lbfgs' in 0.22. Specify a solver to silence this warning.\n",
      "  FutureWarning)\n",
      "C:\\ProgramData\\Anaconda3\\lib\\site-packages\\sklearn\\utils\\validation.py:724: DataConversionWarning: A column-vector y was passed when a 1d array was expected. Please change the shape of y to (n_samples, ), for example using ravel().\n",
      "  y = column_or_1d(y, warn=True)\n"
     ]
    },
    {
     "data": {
      "text/plain": [
       "LogisticRegression(C=1.0, class_weight=None, dual=False, fit_intercept=True,\n",
       "                   intercept_scaling=1, l1_ratio=None, max_iter=100,\n",
       "                   multi_class='warn', n_jobs=None, penalty='l2',\n",
       "                   random_state=42, solver='warn', tol=0.0001, verbose=0,\n",
       "                   warm_start=False)"
      ]
     },
     "execution_count": 92,
     "metadata": {},
     "output_type": "execute_result"
    },
    {
     "name": "stdout",
     "output_type": "stream",
     "text": [
      "          0        1        2         3         4         5  intercept\n",
      "0 -0.082991  0.07492  0.04757  0.516867  1.258404 -0.138149  -8.668345\n"
     ]
    }
   ],
   "source": [
    "from sklearn import metrics\n",
    "\n",
    "from sklearn.linear_model import LogisticRegression\n",
    "\n",
    "# Fit the model\n",
    "pl_model = LogisticRegression(random_state=42)\n",
    "pl_model.fit(X_train, y_train)\n",
    "\n",
    "#Predict on X_test\n",
    "y_predict = pl_model.predict(X_test)\n",
    "\n",
    "coef_pl = pd.DataFrame(pl_model.coef_)\n",
    "coef_pl['intercept'] = pl_model.intercept_\n",
    "print(coef_pl)"
   ]
  },
  {
   "cell_type": "code",
   "execution_count": 97,
   "metadata": {},
   "outputs": [],
   "source": [
    "# Function to get confusion matrix\n",
    "def draw_cm(actual, predicted):\n",
    "    cm = metrics.confusion_matrix(actual, predicted)\n",
    "    sns.heatmap(cm, cmap='Blues', annot=True,  annot_kws= {'size':12, 'ha': 'left', 'va': 'top'}, fmt= 'd', xticklabels = [0,1] , yticklabels = [0,1])\n",
    "    plt.ylabel('Observed')\n",
    "    plt.xlabel('Predicted')\n",
    "    sns.set(font_scale=1.4)\n",
    "    plt.figure(figsize=(10, 7))\n",
    "    plt.show()"
   ]
  },
  {
   "cell_type": "code",
   "execution_count": 98,
   "metadata": {},
   "outputs": [
    {
     "name": "stdout",
     "output_type": "stream",
     "text": [
      "Confusion Matrix\n"
     ]
    },
    {
     "data": {
      "image/png": "[encoded data removed]",
      "text/plain": [
       "<Figure size 432x288 with 2 Axes>"
      ]
     },
     "metadata": {},
     "output_type": "display_data"
    },
    {
     "data": {
      "text/plain": [
       "<Figure size 720x504 with 0 Axes>"
      ]
     },
     "metadata": {},
     "output_type": "display_data"
    },
    {
     "name": "stdout",
     "output_type": "stream",
     "text": [
      "None\n",
      "\n",
      "True Positives (TP)- correct prediction that 85 customers will take the loan, \n",
      "True Negatives (TN)- correct prediction that 1336 customers will not take the loan, \n",
      "False Positives (FP)- incorrect prediction that 66 customers will not take the loan (a \"Type I error\"), \n",
      "False Negatives (FN)- incorrect prediction that 13 customers will take the loan (a \"Type II error\").\n",
      "\n",
      "Training accuracy: 0.9411428571428572\n",
      "\n",
      "Testing accuracy: 0.9413333333333334\n",
      "\n",
      "Recall: 0.5234899328859061\n",
      "\n",
      "Precision: 0.8210526315789474\n",
      "\n",
      "F1 Score: 0.639344262295082\n",
      "\n",
      "Roc Auc Score: 0.7554533306176384\n"
     ]
    }
   ],
   "source": [
    "newline = '\\n'\n",
    "print('Confusion Matrix')\n",
    "print(draw_cm(y_test,y_predict))\n",
    "print()\n",
    "print(f'True Positives (TP)- correct prediction that 85 customers will take the loan, \\\n",
    "{newline}True Negatives (TN)- correct prediction that 1336 customers will not take the loan, \\\n",
    "{newline}False Positives (FP)- incorrect prediction that 66 customers will not take the loan (a \"Type I error\"), \\\n",
    "{newline}False Negatives (FN)- incorrect prediction that 13 customers will take the loan (a \"Type II error\").')\n",
    "\n",
    "print()\n",
    "print(\"Training accuracy:\",pl_model.score(X_train,y_train))  \n",
    "print()\n",
    "print(\"Testing accuracy:\",pl_model.score(X_test, y_test))\n",
    "print()\n",
    "print(\"Recall:\", metrics.recall_score(y_test,y_predict))\n",
    "print()\n",
    "print(\"Precision:\",metrics.precision_score(y_test,y_predict))\n",
    "print()\n",
    "print(\"F1 Score:\",metrics.f1_score(y_test,y_predict))\n",
    "print()\n",
    "print(\"Roc Auc Score:\",metrics.roc_auc_score(y_test,y_predict))"
   ]
  },
  {
   "cell_type": "markdown",
   "metadata": {},
   "source": [
    "### Question 5. Give your reasoning on how can the model perform better? (10 marks)\n",
    "Hint: Check parameter"
   ]
  },
  {
   "cell_type": "markdown",
   "metadata": {},
   "source": [
    "### What is of more significance in this model, recall or precision?\n",
    "Incorrect prediction that 13 will take the loan, but they did not take the loan means that the bank will waste resources in reaching out to those 13 people.\n",
    "\n",
    "Incorrect prediction that 66 people will not take the loan, but they took the loan means that the bank will not send targeted emails to those 66 people.\n",
    "\n",
    "In order to target more of the 66 people, we need to increase our specificity values.\n",
    "\n",
    "Check - if we drop some more columns, will the recall be better?"
   ]
  },
  {
   "cell_type": "code",
   "execution_count": null,
   "metadata": {},
   "outputs": [],
   "source": [
    "\n"
   ]
  }
 ],
 "metadata": {
  "kernelspec": {
   "display_name": "Python 3",
   "language": "python",
   "name": "python3"
  },
  "language_info": {
   "codemirror_mode": {
    "name": "ipython",
    "version": 3
   },
   "file_extension": ".py",
   "mimetype": "text/x-python",
   "name": "python",
   "nbconvert_exporter": "python",
   "pygments_lexer": "ipython3",
   "version": "3.7.4"
  }
 },
 "nbformat": 4,
 "nbformat_minor": 2
}
